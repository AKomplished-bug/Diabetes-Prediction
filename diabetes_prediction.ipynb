{
 "cells": [
  {
   "cell_type": "code",
   "execution_count": 1,
   "metadata": {},
   "outputs": [],
   "source": [
    "import pandas as pd\n",
    "from sklearn.model_selection import train_test_split\n",
    "from sklearn.svm import SVC\n",
    "from sklearn.metrics import accuracy_score, classification_report, confusion_matrix\n"
   ]
  },
  {
   "cell_type": "code",
   "execution_count": 3,
   "metadata": {},
   "outputs": [],
   "source": [
    "data = pd.read_csv('diabetes_prediction_dataset.csv')"
   ]
  },
  {
   "cell_type": "code",
   "execution_count": 4,
   "metadata": {},
   "outputs": [
    {
     "name": "stdout",
     "output_type": "stream",
     "text": [
      "First few rows of the dataset:\n",
      "   gender   age  hypertension  heart_disease smoking_history    bmi   \n",
      "0  Female  80.0             0              1           never  25.19  \\\n",
      "1  Female  54.0             0              0         No Info  27.32   \n",
      "2    Male  28.0             0              0           never  27.32   \n",
      "3  Female  36.0             0              0         current  23.45   \n",
      "4    Male  76.0             1              1         current  20.14   \n",
      "\n",
      "   HbA1c_level  blood_glucose_level  diabetes  \n",
      "0          6.6                  140         0  \n",
      "1          6.6                   80         0  \n",
      "2          5.7                  158         0  \n",
      "3          5.0                  155         0  \n",
      "4          4.8                  155         0  \n"
     ]
    }
   ],
   "source": [
    "print(\"First few rows of the dataset:\")\n",
    "print(data.head())\n"
   ]
  },
  {
   "cell_type": "code",
   "execution_count": 5,
   "metadata": {},
   "outputs": [
    {
     "name": "stdout",
     "output_type": "stream",
     "text": [
      "\n",
      "Checking for missing values:\n",
      "gender                 0\n",
      "age                    0\n",
      "hypertension           0\n",
      "heart_disease          0\n",
      "smoking_history        0\n",
      "bmi                    0\n",
      "HbA1c_level            0\n",
      "blood_glucose_level    0\n",
      "diabetes               0\n",
      "dtype: int64\n"
     ]
    }
   ],
   "source": [
    "# Check for missing values\n",
    "print(\"\\nChecking for missing values:\")\n",
    "print(data.isnull().sum())\n"
   ]
  },
  {
   "cell_type": "code",
   "execution_count": 12,
   "metadata": {},
   "outputs": [],
   "source": [
    "#removing unwanted column\n",
    "data.drop('smoking_history_not current', axis=1, inplace=True)"
   ]
  },
  {
   "cell_type": "code",
   "execution_count": 13,
   "metadata": {},
   "outputs": [],
   "source": [
    "# Convert True/False values to 1/0 for the existing one-hot encoded columns\n",
    "data['gender_Female'] = data['gender_Female'].astype(int)\n",
    "data['gender_Male'] = data['gender_Male'].astype(int)\n",
    "data['gender_Other'] = data['gender_Other'].astype(int)\n",
    "\n",
    "data['smoking_history_No Info'] = data['smoking_history_No Info'].astype(int)\n",
    "data['smoking_history_current'] = data['smoking_history_current'].astype(int)\n",
    "data['smoking_history_ever'] = data['smoking_history_ever'].astype(int)\n",
    "data['smoking_history_former'] = data['smoking_history_former'].astype(int)\n",
    "data['smoking_history_never'] = data['smoking_history_never'].astype(int)"
   ]
  },
  {
   "cell_type": "code",
   "execution_count": 14,
   "metadata": {},
   "outputs": [
    {
     "name": "stdout",
     "output_type": "stream",
     "text": [
      "\n",
      "Preprocessed data:\n",
      "    age  hypertension  heart_disease    bmi  HbA1c_level  blood_glucose_level   \n",
      "0  80.0             0              1  25.19          6.6                  140  \\\n",
      "1  54.0             0              0  27.32          6.6                   80   \n",
      "2  28.0             0              0  27.32          5.7                  158   \n",
      "3  36.0             0              0  23.45          5.0                  155   \n",
      "4  76.0             1              1  20.14          4.8                  155   \n",
      "\n",
      "   diabetes  gender_Female  gender_Male  gender_Other   \n",
      "0         0              1            0             0  \\\n",
      "1         0              1            0             0   \n",
      "2         0              0            1             0   \n",
      "3         0              1            0             0   \n",
      "4         0              0            1             0   \n",
      "\n",
      "   smoking_history_No Info  smoking_history_current  smoking_history_ever   \n",
      "0                        0                        0                     0  \\\n",
      "1                        1                        0                     0   \n",
      "2                        0                        0                     0   \n",
      "3                        0                        1                     0   \n",
      "4                        0                        1                     0   \n",
      "\n",
      "   smoking_history_former  smoking_history_never  \n",
      "0                       0                      1  \n",
      "1                       0                      0  \n",
      "2                       0                      1  \n",
      "3                       0                      0  \n",
      "4                       0                      0  \n"
     ]
    }
   ],
   "source": [
    "# Display the preprocessed data\n",
    "print(\"\\nPreprocessed data:\")\n",
    "print(data.head())"
   ]
  },
  {
   "cell_type": "code",
   "execution_count": null,
   "metadata": {},
   "outputs": [],
   "source": []
  }
 ],
 "metadata": {
  "kernelspec": {
   "display_name": "Python 3",
   "language": "python",
   "name": "python3"
  },
  "language_info": {
   "codemirror_mode": {
    "name": "ipython",
    "version": 3
   },
   "file_extension": ".py",
   "mimetype": "text/x-python",
   "name": "python",
   "nbconvert_exporter": "python",
   "pygments_lexer": "ipython3",
   "version": "3.11.5"
  }
 },
 "nbformat": 4,
 "nbformat_minor": 2
}
